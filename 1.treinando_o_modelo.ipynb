{
 "cells": [
  {
   "cell_type": "markdown",
   "metadata": {},
   "source": [
    "# Detector de dígitos (0 a 9) em linguagem de sinais"
   ]
  },
  {
   "cell_type": "markdown",
   "metadata": {},
   "source": [
    "Este projeto utiliza Redes Neuras Convolutivas para detectar gestos que representam os números de 0 a 9 na linguagem de sinais norte americana (*ASL - American Sign Language*).\n",
    "Neste projeto utilizei a base de dados disponível em: https://www.kaggle.com/datasets/rayeed045/american-sign-language-digit-dataset"
   ]
  },
  {
   "cell_type": "code",
   "execution_count": 8,
   "metadata": {},
   "outputs": [],
   "source": [
    "import numpy as np\n",
    "import os\n",
    "import cv2\n",
    "from sklearn.model_selection import train_test_split\n",
    "import keras\n",
    "from keras.utils.np_utils import to_categorical\n",
    "from keras.layers import Dense, Conv2D, Flatten, MaxPool2D, Dropout\n",
    "from keras.models import Sequential\n",
    "from keras.callbacks import EarlyStopping\n",
    "\n",
    "import carrega_imagens"
   ]
  },
  {
   "cell_type": "markdown",
   "metadata": {},
   "source": [
    "## 1. Carregando as entradas (X) e saídas (y)"
   ]
  },
  {
   "cell_type": "markdown",
   "metadata": {},
   "source": [
    "Criamos um script específico (*carrega_imagens.py*) para carregar e transformar as imagens em tensores, e que já faz a separação das entradas e saídas em treino (80%) e teste (20%):"
   ]
  },
  {
   "cell_type": "code",
   "execution_count": 6,
   "metadata": {},
   "outputs": [],
   "source": [
    "X_train, X_test, y_train, y_test = carrega_imagens.load()"
   ]
  },
  {
   "cell_type": "markdown",
   "metadata": {},
   "source": [
    "Aplicando *One Hot Encoding* na saída, para conseguirmos realizar a classificação:"
   ]
  },
  {
   "cell_type": "code",
   "execution_count": 7,
   "metadata": {},
   "outputs": [],
   "source": [
    "y_train_OH = to_categorical(y_train)\n",
    "y_test_OH = to_categorical(y_test)"
   ]
  },
  {
   "cell_type": "markdown",
   "metadata": {},
   "source": [
    "## 2. Construção do modelo de Deep Learning (CNNs)"
   ]
  },
  {
   "cell_type": "markdown",
   "metadata": {},
   "source": [
    "Abaixo definimos uma rede neural de cinco camadas convolutivas, seguidas de duas camadas densas. Alguma experimentação foi feita na definição das quantidades de filtros, tamanho dos kernels e dos pools, para que tivessemos uma rede com uma quantidade razoável de parâmetros treináveis (abaixo de 60k, para o treinamento não ser muito custoso) ao mesmo tempo que a acurácia do set de teste ficasse acima de 98%."
   ]
  },
  {
   "cell_type": "code",
   "execution_count": 14,
   "metadata": {},
   "outputs": [],
   "source": [
    "model = Sequential()\n",
    "model.add(Conv2D(10, kernel_size=5, activation='relu', input_shape=(400,400,1)))\n",
    "model.add(MaxPool2D(2))\n",
    "\n",
    "model.add(Conv2D(20, kernel_size=3, activation='relu'))\n",
    "model.add(MaxPool2D(2))\n",
    "model.add(Dropout(0.2))\n",
    "\n",
    "model.add(Conv2D(20, kernel_size=3, activation='relu'))\n",
    "model.add(MaxPool2D(2))\n",
    "\n",
    "model.add(Conv2D(10, kernel_size=3, activation='relu'))\n",
    "model.add(MaxPool2D(2))\n",
    "\n",
    "model.add(Flatten())\n",
    "model.add(Dense(10, activation='softmax'))  # 10 dígitos de saída\n",
    "model.compile(optimizer='adam', loss='categorical_crossentropy', metrics=['accuracy'])"
   ]
  },
  {
   "cell_type": "code",
   "execution_count": 15,
   "metadata": {},
   "outputs": [
    {
     "name": "stdout",
     "output_type": "stream",
     "text": [
      "Model: \"sequential_1\"\n",
      "_________________________________________________________________\n",
      " Layer (type)                Output Shape              Param #   \n",
      "=================================================================\n",
      " conv2d_4 (Conv2D)           (None, 396, 396, 10)      260       \n",
      "                                                                 \n",
      " max_pooling2d_4 (MaxPooling  (None, 198, 198, 10)     0         \n",
      " 2D)                                                             \n",
      "                                                                 \n",
      " conv2d_5 (Conv2D)           (None, 196, 196, 20)      1820      \n",
      "                                                                 \n",
      " max_pooling2d_5 (MaxPooling  (None, 98, 98, 20)       0         \n",
      " 2D)                                                             \n",
      "                                                                 \n",
      " dropout_1 (Dropout)         (None, 98, 98, 20)        0         \n",
      "                                                                 \n",
      " conv2d_6 (Conv2D)           (None, 96, 96, 20)        3620      \n",
      "                                                                 \n",
      " max_pooling2d_6 (MaxPooling  (None, 48, 48, 20)       0         \n",
      " 2D)                                                             \n",
      "                                                                 \n",
      " conv2d_7 (Conv2D)           (None, 46, 46, 10)        1810      \n",
      "                                                                 \n",
      " max_pooling2d_7 (MaxPooling  (None, 23, 23, 10)       0         \n",
      " 2D)                                                             \n",
      "                                                                 \n",
      " flatten_1 (Flatten)         (None, 5290)              0         \n",
      "                                                                 \n",
      " dense_1 (Dense)             (None, 10)                52910     \n",
      "                                                                 \n",
      "=================================================================\n",
      "Total params: 60,420\n",
      "Trainable params: 60,420\n",
      "Non-trainable params: 0\n",
      "_________________________________________________________________\n"
     ]
    }
   ],
   "source": [
    "model.summary()"
   ]
  },
  {
   "cell_type": "markdown",
   "metadata": {},
   "source": [
    "## 3. Treinamento do modelo"
   ]
  },
  {
   "cell_type": "markdown",
   "metadata": {},
   "source": [
    "Abaixo realizamos o treinamento do modelo definido, utilizando 20% do set de treino para validação. Também definimos um EarlyStopping para evitar overfitting."
   ]
  },
  {
   "cell_type": "code",
   "execution_count": 16,
   "metadata": {},
   "outputs": [
    {
     "name": "stdout",
     "output_type": "stream",
     "text": [
      "Epoch 1/30\n",
      "100/100 [==============================] - 263s 3s/step - loss: 1.0133 - accuracy: 0.6450 - val_loss: 0.3918 - val_accuracy: 0.8763\n",
      "Epoch 2/30\n",
      "100/100 [==============================] - 270s 3s/step - loss: 0.1889 - accuracy: 0.9422 - val_loss: 0.1740 - val_accuracy: 0.9375\n",
      "Epoch 3/30\n",
      "100/100 [==============================] - 266s 3s/step - loss: 0.0660 - accuracy: 0.9803 - val_loss: 0.1677 - val_accuracy: 0.9463\n",
      "Epoch 4/30\n",
      "100/100 [==============================] - 262s 3s/step - loss: 0.0354 - accuracy: 0.9894 - val_loss: 0.0745 - val_accuracy: 0.9837\n",
      "Epoch 5/30\n",
      "100/100 [==============================] - 275s 3s/step - loss: 0.0273 - accuracy: 0.9937 - val_loss: 0.1232 - val_accuracy: 0.9688\n",
      "Epoch 6/30\n",
      "100/100 [==============================] - 278s 3s/step - loss: 0.0139 - accuracy: 0.9959 - val_loss: 0.1311 - val_accuracy: 0.9700\n"
     ]
    }
   ],
   "source": [
    "early_stop_monitor = EarlyStopping(patience=2, restore_best_weights=True) \n",
    "training = model.fit(X_train, y_train_OH, validation_split=0.2, epochs=30, batch_size=32, callbacks = [early_stop_monitor])"
   ]
  },
  {
   "cell_type": "markdown",
   "metadata": {},
   "source": [
    "Abaixo podemos visualizar a evolução do processo de treinamento do modelo, comparando o valor do *loss* do set de treino com o *loss* do set de validação. Esta é uma boa maneira de verificar se houve *overfitting*, pois nesse caso veríamos (a partir de em um certo ponto) o valor de *loss* reduzindo mesmo com o *val_loss* aumentando."
   ]
  },
  {
   "cell_type": "code",
   "execution_count": 17,
   "metadata": {},
   "outputs": [
    {
     "data": {
      "image/png": "[encoded data removed]",
      "text/plain": [
       "<Figure size 432x288 with 1 Axes>"
      ]
     },
     "metadata": {},
     "output_type": "display_data"
    }
   ],
   "source": [
    "import matplotlib.pyplot as plt\n",
    "import seaborn as sns\n",
    "sns.set()\n",
    "\n",
    "plt.plot(training.history['loss'])\n",
    "plt.plot(training.history['val_loss'])\n",
    "plt.legend(['loss', 'val_loss'])\n",
    "plt.show()"
   ]
  },
  {
   "cell_type": "markdown",
   "metadata": {},
   "source": [
    "A real acurácia do modelo treinado é testada abaixo, na parte dos dados que foi separada para teste:"
   ]
  },
  {
   "cell_type": "code",
   "execution_count": 18,
   "metadata": {},
   "outputs": [
    {
     "name": "stdout",
     "output_type": "stream",
     "text": [
      "32/32 [==============================] - 24s 761ms/step - loss: 0.0903 - accuracy: 0.9830\n"
     ]
    },
    {
     "data": {
      "text/plain": [
       "[0.09034763276576996, 0.9829999804496765]"
      ]
     },
     "execution_count": 18,
     "metadata": {},
     "output_type": "execute_result"
    }
   ],
   "source": [
    "model.evaluate(X_test, y_test_OH, batch_size=32)"
   ]
  },
  {
   "cell_type": "markdown",
   "metadata": {},
   "source": [
    "Conseguimos uma boa acurácia, acima de 98%, o que mostra que o modelo definido e treinado é bastante satisfatório."
   ]
  },
  {
   "cell_type": "markdown",
   "metadata": {},
   "source": [
    "## 4. Salvando o modelo treinado em disco, para futura utilização"
   ]
  },
  {
   "cell_type": "markdown",
   "metadata": {},
   "source": [
    "Cada vez que este notebook for executado por completo, um novo modelo será criado em salvo em disco, sendo a respectiva data e hora da execução parte integrante do nome dos arquivos:"
   ]
  },
  {
   "cell_type": "code",
   "execution_count": 19,
   "metadata": {},
   "outputs": [
    {
     "name": "stdout",
     "output_type": "stream",
     "text": [
      "INFO:tensorflow:Assets written to: modelo-21-10-2022-15-17-18\\assets\n"
     ]
    }
   ],
   "source": [
    "from datetime import datetime\n",
    "\n",
    "now = datetime.now()\n",
    "dt_string = now.strftime(\"%d-%m-%Y-%H-%M-%S\")\n",
    "model.save('modelo-' + dt_string)\n",
    "model.save_weights('modelo-' + dt_string + '.h5')"
   ]
  },
  {
   "cell_type": "markdown",
   "metadata": {},
   "source": [
    "## 5. Quais imagens foram classificadas erroneamente?"
   ]
  },
  {
   "cell_type": "markdown",
   "metadata": {},
   "source": [
    "Com o intúito de entender melhor os problemas da nossa base de dados, ou até mesmo do nosso modelo, vamos verificar abaixo quais foram as imagens que nosso modelo classificou erroneamente. Assim podemos ter *insights* para futuras melhorias."
   ]
  },
  {
   "cell_type": "code",
   "execution_count": null,
   "metadata": {},
   "outputs": [],
   "source": [
    "# Get predicted probabilities for test dataset\n",
    "#y_probs = model.predict(x_test)\n",
    "\n",
    "# Get predicted labels for test dataset\n",
    "#y_preds = np.argmax(y_probs, axis=1)\n",
    "\n",
    "# Indices corresponding to test images which were mislabeled\n",
    "#bad_test_idxs = np.where(y_preds != y_test)[0]\n",
    "\n",
    "# Print mislabeled examples\n",
    "#fig = plt.figure(figsize=(25,4))\n",
    "#for i, idx in enumerate(bad_test_idxs):\n",
    "#    ax = fig.add_subplot(2, np.ceil(len(bad_test_idxs)/2), i + 1, xticks=[], yticks=[])\n",
    "#    ax.imshow(np.squeeze(x_test[idx]))\n",
    "#    ax.set_title(\"{} (pred: {})\".format(labels[y_test[idx]], labels[y_preds[idx]]))"
   ]
  }
 ],
 "metadata": {
  "kernelspec": {
   "display_name": "Python 3.9.13 64-bit (microsoft store)",
   "language": "python",
   "name": "python3"
  },
  "language_info": {
   "codemirror_mode": {
    "name": "ipython",
    "version": 3
   },
   "file_extension": ".py",
   "mimetype": "text/x-python",
   "name": "python",
   "nbconvert_exporter": "python",
   "pygments_lexer": "ipython3",
   "version": "3.9.13"
  },
  "orig_nbformat": 4,
  "vscode": {
   "interpreter": {
    "hash": "44e092dbf5a2d7f854204366b602d774237af8617f169b3b06803da90d84e814"
   }
  }
 },
 "nbformat": 4,
 "nbformat_minor": 2
}
